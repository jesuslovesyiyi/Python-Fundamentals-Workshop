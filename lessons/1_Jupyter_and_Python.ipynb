{
 "cells": [
  {
   "cell_type": "markdown",
   "metadata": {
    "toc": true
   },
   "source": [
    "<h1>Table of Contents<span class=\"tocSkip\"></span></h1>\n",
    "<div class=\"toc\"><ul class=\"toc-item\"><li><span><a href=\"#Python-Fundamentals:-Introduction-to-Jupyter-and-Python\" data-toc-modified-id=\"Python-Fundamentals:-Introduction-to-Jupyter-and-Python-1\"><span class=\"toc-item-num\">1&nbsp;&nbsp;</span>Python Fundamentals: Introduction to Jupyter and Python</a></span><ul class=\"toc-item\"><li><ul class=\"toc-item\"><li><span><a href=\"#Learning-Objectives\" data-toc-modified-id=\"Learning-Objectives-1.0.1\"><span class=\"toc-item-num\">1.0.1&nbsp;&nbsp;</span>Learning Objectives</a></span></li><li><span><a href=\"#Icons-Used-in-This-Notebook\" data-toc-modified-id=\"Icons-Used-in-This-Notebook-1.0.2\"><span class=\"toc-item-num\">1.0.2&nbsp;&nbsp;</span>Icons Used in This Notebook</a></span></li><li><span><a href=\"#Sections\" data-toc-modified-id=\"Sections-1.0.3\"><span class=\"toc-item-num\">1.0.3&nbsp;&nbsp;</span>Sections</a></span></li></ul></li></ul></li><li><span><a href=\"#This-Workshop\" data-toc-modified-id=\"This-Workshop-2\"><span class=\"toc-item-num\">2&nbsp;&nbsp;</span>This Workshop</a></span></li><li><span><a href=\"#Working-With-Jupyter-Notebooks\" data-toc-modified-id=\"Working-With-Jupyter-Notebooks-3\"><span class=\"toc-item-num\">3&nbsp;&nbsp;</span>Working With Jupyter Notebooks</a></span><ul class=\"toc-item\"><li><span><a href=\"#Two-Types-of-Cells\" data-toc-modified-id=\"Two-Types-of-Cells-3.1\"><span class=\"toc-item-num\">3.1&nbsp;&nbsp;</span>Two Types of Cells</a></span></li><li><span><a href=\"#Markdown-Cells\" data-toc-modified-id=\"Markdown-Cells-3.2\"><span class=\"toc-item-num\">3.2&nbsp;&nbsp;</span>Markdown Cells</a></span></li><li><span><a href=\"#Command-Mode-and-Edit-Mode\" data-toc-modified-id=\"Command-Mode-and-Edit-Mode-3.3\"><span class=\"toc-item-num\">3.3&nbsp;&nbsp;</span>Command Mode and Edit Mode</a></span></li><li><span><a href=\"#Code-Cells\" data-toc-modified-id=\"Code-Cells-3.4\"><span class=\"toc-item-num\">3.4&nbsp;&nbsp;</span>Code Cells</a></span></li><li><span><a href=\"#🥊-Challenge-1:-Printing\" data-toc-modified-id=\"🥊-Challenge-1:-Printing-3.5\"><span class=\"toc-item-num\">3.5&nbsp;&nbsp;</span>🥊 Challenge 1: Printing</a></span></li></ul></li><li><span><a href=\"#Variables-in-Python\" data-toc-modified-id=\"Variables-in-Python-4\"><span class=\"toc-item-num\">4&nbsp;&nbsp;</span>Variables in Python</a></span><ul class=\"toc-item\"><li><span><a href=\"#🥊-Challenge-2:-Executing-Cells-Multiple-Times\" data-toc-modified-id=\"🥊-Challenge-2:-Executing-Cells-Multiple-Times-4.1\"><span class=\"toc-item-num\">4.1&nbsp;&nbsp;</span>🥊 Challenge 2: Executing Cells Multiple Times</a></span></li><li><span><a href=\"#Calculating-With-Variables\" data-toc-modified-id=\"Calculating-With-Variables-4.2\"><span class=\"toc-item-num\">4.2&nbsp;&nbsp;</span>Calculating With Variables</a></span></li><li><span><a href=\"#Naming-Variables\" data-toc-modified-id=\"Naming-Variables-4.3\"><span class=\"toc-item-num\">4.3&nbsp;&nbsp;</span>Naming Variables</a></span></li><li><span><a href=\"#🥊-Challenge-3:-Debugging-Variable-Names\" data-toc-modified-id=\"🥊-Challenge-3:-Debugging-Variable-Names-4.4\"><span class=\"toc-item-num\">4.4&nbsp;&nbsp;</span>🥊 Challenge 3: Debugging Variable Names</a></span></li><li><span><a href=\"#Debugging\" data-toc-modified-id=\"Debugging-4.5\"><span class=\"toc-item-num\">4.5&nbsp;&nbsp;</span>Debugging</a></span></li><li><span><a href=\"#🥊-Challenge-4:-What-The...\" data-toc-modified-id=\"🥊-Challenge-4:-What-The...-4.6\"><span class=\"toc-item-num\">4.6&nbsp;&nbsp;</span>🥊 Challenge 4: What The...</a></span></li><li><span><a href=\"#The-Kernel\" data-toc-modified-id=\"The-Kernel-4.7\"><span class=\"toc-item-num\">4.7&nbsp;&nbsp;</span>The Kernel</a></span><ul class=\"toc-item\"><li><span><a href=\"#Restarting-the-Kernel\" data-toc-modified-id=\"Restarting-the-Kernel-4.7.1\"><span class=\"toc-item-num\">4.7.1&nbsp;&nbsp;</span>Restarting the Kernel</a></span></li></ul></li><li><span><a href=\"#🥊-Challenge-5:-Swapping-Values\" data-toc-modified-id=\"🥊-Challenge-5:-Swapping-Values-4.8\"><span class=\"toc-item-num\">4.8&nbsp;&nbsp;</span>🥊 Challenge 5: Swapping Values</a></span></li></ul></li><li><span><a href=\"#🎬-Demo:-Working-With-Data-Frames\" data-toc-modified-id=\"🎬-Demo:-Working-With-Data-Frames-5\"><span class=\"toc-item-num\">5&nbsp;&nbsp;</span>🎬 Demo: Working With Data Frames</a></span><ul class=\"toc-item\"><li><span><a href=\"#❗-Key-Points\" data-toc-modified-id=\"❗-Key-Points-5.1\"><span class=\"toc-item-num\">5.1&nbsp;&nbsp;</span>❗ Key Points</a></span></li></ul></li></ul></div>"
   ]
  },
  {
   "cell_type": "markdown",
   "metadata": {},
   "source": [
    "# Python Fundamentals: Introduction to Jupyter and Python\n",
    "\n",
    "* * * \n",
    "<div class=\"alert alert-success\">  \n",
    "    \n",
    "### Learning Objectives \n",
    "    \n",
    "* Work with Jupyter Notebooks.\n",
    "* Use variables to do calculations in Python.\n",
    "* Read error messages to fix your code. \n",
    "</div>\n",
    "\n",
    "### Icons Used in This Notebook\n",
    "🔔 **Question**: A quick question to help you understand what's going on.<br>\n",
    "🥊 **Challenge**: Interactive exercise. We'll work through these in the workshop!<br>\n",
    "💡 **Tip**: How to do something a bit more efficiently or effectively.<br>\n",
    "⚠️ **Warning:** Heads-up about tricky stuff or common mistakes.<br>\n",
    "📝 **Poll:** A Zoom poll to help you learn!<br>\n",
    "🎬 **Demo**: Showing off something more advanced – so you know what Python can be used for!<br>\n",
    "\n",
    "### Sections\n",
    "1. [This Workshop](#this)\n",
    "2. [Working With Jupyter Notebooks](#jupyter)\n",
    "3. [Variables in Python](#variables)\n",
    "5. [Demo: Working With Data Frames](#demo)"
   ]
  },
  {
   "cell_type": "markdown",
   "metadata": {},
   "source": [
    "<a id='this'></a>\n",
    "\n",
    "# This Workshop\n",
    "\n",
    "Python is a general-purpose programming language. It can be used for many tasks, including building websites and software, automating tasks, data analysis, and more.\n",
    "\n",
    "📝 **Poll PyFun 1-1:** Why are you learning Python? What would you like to use it for? </span>\n",
    "\n",
    "This introduction to Python is built around **data analysis**, although many of these skills will be useful for other applications of Python.\n",
    "\n",
    "The dataset we will be using in this workshop comes from [Gapminder](https://www.gapminder.org/), an educational non-proﬁt. It includes data for 142 countries, with values for life expectancy, GDP per capita, and population, every five years, from 1952 to 2007. The first few rows look like this:\n",
    "\n",
    "<img src=\"../img/gap_ex.png\" alt=\"gapminder_data\" width=\"500\"/>\n",
    "\n",
    "Imagine you're a data scientist wanting to perform an exploratory data analysis on this dataset, using the basics of Python. By the end of this workshop series, you'll be able to do so."
   ]
  },
  {
   "cell_type": "markdown",
   "metadata": {
    "tags": []
   },
   "source": [
    "<a id='jupyter'></a>\n",
    "# Working With Jupyter Notebooks\n",
    "\n",
    "We use Jupyter as our interface for coding. The document you are looking at is called a **Jupyter Notebook**: it allows us to add code, computational output, visualizations and images, along with explanatory text in a single document. \n",
    "\n",
    "You can use Jupyter Notebooks for all sorts of data science tasks: from data cleaning and transformation, to exploratory data analysis and visualization, to machine learning, and more.\n",
    "\n",
    "💡 **Tip**: You can create a new Notebook of your own by clicking on `File -> New -> Notebook`."
   ]
  },
  {
   "cell_type": "markdown",
   "metadata": {},
   "source": [
    "## Two Types of Cells\n",
    "\n",
    "In Jupyter Notebook documents, code and text are divided into cells which can each be run separately. There are two types of cells: **Markdown cells** and **code cells**. "
   ]
  },
  {
   "cell_type": "markdown",
   "metadata": {
    "tags": []
   },
   "source": [
    "## Markdown Cells\n",
    "\n",
    "This cell is written in **Markdown**, a language that you can use to add formatting elements to plain text – things like headings, bulleted lists, and URLs.\n",
    "\n",
    "Markdown has its own syntax, which is fairly straighforward. Here's a [cheatsheet](https://github.com/adam-p/markdown-here/wiki/Markdown-Cheatsheet) if you want to know more. You can also double-click on any of the Markdown cells in the Notebook to see how they are made.\n",
    "\n",
    "Let's double-click this text cell to see the Markdown code that's rendering this cell. Press **Shift + Enter** to go back to the formatted text.\n",
    "\n",
    "If you want to create new empty cells, you can use the `+` button at the top of the Notebook. You can change the cell type at the top of the Notebook as well, where it says \"Markdown\" or \"Code\"."
   ]
  },
  {
   "cell_type": "markdown",
   "metadata": {
    "jp-MarkdownHeadingCollapsed": true,
    "tags": []
   },
   "source": [
    "## Command Mode and Edit Mode \n",
    "\n",
    "Jupyter has two modes: Edit mode and Command mode. Edit mode allows you to type into the cells like a normal text editor. Command mode allows you to edit the notebook as a whole, but not type into individual cells.\n",
    "\n",
    "- Enter **Edit Mode** by pressing **Enter** or double-clicking on a cell’s editor area.\n",
    "- Enter **Command Mode** by pressing **Esc** or clicking outside a cell's editor area. In command mode you can use shortcuts to work with cells:\n",
    "    - `c`: copy cell.\n",
    "    - `v`: paste cell.\n",
    "    - `d, d` (press key twice): delete cell.\n",
    "    - `a`: insert cell above.\n",
    "    - `b`: insert cell below."
   ]
  },
  {
   "cell_type": "markdown",
   "metadata": {},
   "source": [
    "## Code Cells\n",
    "\n",
    "The cell below is a code cell. Press **Shift + Enter** on it to run the code and advance to the next cell.<br>"
   ]
  },
  {
   "cell_type": "code",
   "execution_count": 1,
   "metadata": {
    "ExecuteTime": {
     "end_time": "2024-01-16T20:57:06.522266Z",
     "start_time": "2024-01-16T20:57:06.519695Z"
    }
   },
   "outputs": [
    {
     "name": "stdout",
     "output_type": "stream",
     "text": [
      "123\n",
      "www\n"
     ]
    }
   ],
   "source": [
    "print(123)\n",
    "print('www')"
   ]
  },
  {
   "cell_type": "markdown",
   "metadata": {},
   "source": [
    "`print()` is a **function**. A function is like a little program that performs an action on some value or data. You can identify a function through its trailing round parentheses `()`. The `print()` function just prints out whatever you put in between the parentheses."
   ]
  },
  {
   "cell_type": "markdown",
   "metadata": {},
   "source": [
    "## 🥊 Challenge 1: Printing\n",
    "\n",
    "Write your own `print()` function in the code cell below. Follow the syntax of the example above, and change the text in the quotation marks."
   ]
  },
  {
   "cell_type": "code",
   "execution_count": 2,
   "metadata": {},
   "outputs": [],
   "source": [
    "# YOUR CODE HERE\n"
   ]
  },
  {
   "cell_type": "markdown",
   "metadata": {
    "tags": []
   },
   "source": [
    "<a id='variables'></a>\n",
    "\n",
    "# Variables in Python\n",
    "\n",
    "You can use Python as a calculator:"
   ]
  },
  {
   "cell_type": "code",
   "execution_count": null,
   "metadata": {
    "ExecuteTime": {
     "end_time": "2024-01-16T20:59:17.062727Z",
     "start_time": "2024-01-16T20:59:17.053433Z"
    }
   },
   "outputs": [],
   "source": [
    "10 + 4 * 2"
   ]
  },
  {
   "cell_type": "markdown",
   "metadata": {},
   "source": [
    "This is cool, but how can we save the result of this calculation?\n",
    "\n",
    "In Python, we can assign a value to a **variable**, using the equals sign `=`. You can think of a variable as a \"placeholder\" or symbolic name for some value.\n",
    "\n",
    "For example, we can assign the result of the above calculation to a variable called `a`.\n",
    "\n",
    "📝 **Poll PyFun 1-2:** What do you think the output of the following code cell will be?"
   ]
  },
  {
   "cell_type": "code",
   "execution_count": null,
   "metadata": {
    "ExecuteTime": {
     "end_time": "2024-01-16T21:00:37.813902Z",
     "start_time": "2024-01-16T21:00:37.810957Z"
    }
   },
   "outputs": [],
   "source": [
    "a = 10 + 4 * 2\n",
    "print(a)"
   ]
  },
  {
   "cell_type": "markdown",
   "metadata": {},
   "source": [
    "From now on, whenever you refer to `a`, Python will substitute the value we assigned to it. "
   ]
  },
  {
   "cell_type": "markdown",
   "metadata": {},
   "source": [
    "💡 **Tip**: In Jupyter, you don't always need to use `print` explicitly. When you want to check what value a certain variable holds, you can just type the variable name and run the cell. Let's try it:"
   ]
  },
  {
   "cell_type": "code",
   "execution_count": null,
   "metadata": {
    "ExecuteTime": {
     "end_time": "2024-01-16T21:01:02.992870Z",
     "start_time": "2024-01-16T21:01:02.989809Z"
    }
   },
   "outputs": [],
   "source": [
    "a"
   ]
  },
  {
   "cell_type": "markdown",
   "metadata": {},
   "source": [
    "## 🥊 Challenge 2: Executing Cells Multiple Times\n",
    "\n",
    "Try using **Shift + Enter** to run the following cell three times. What is the output? Can you explain what is happening?"
   ]
  },
  {
   "cell_type": "code",
   "execution_count": null,
   "metadata": {
    "ExecuteTime": {
     "end_time": "2024-01-16T21:03:04.474736Z",
     "start_time": "2024-01-16T21:03:04.471805Z"
    }
   },
   "outputs": [],
   "source": [
    "a = a + 1\n",
    "a"
   ]
  },
  {
   "cell_type": "markdown",
   "metadata": {
    "tags": []
   },
   "source": [
    "## Calculating With Variables\n",
    "\n",
    "The key feature of variables is that we can use them just as if they were values. Let's check out some common operations below. "
   ]
  },
  {
   "cell_type": "markdown",
   "metadata": {},
   "source": [
    "🔔 **Question:** What outputs do you expect to be printed in the cell below? "
   ]
  },
  {
   "cell_type": "code",
   "execution_count": null,
   "metadata": {
    "ExecuteTime": {
     "end_time": "2024-01-16T21:04:23.657572Z",
     "start_time": "2024-01-16T21:04:23.653828Z"
    }
   },
   "outputs": [],
   "source": [
    "year = 1952\n",
    "decade = 10\n",
    "pop = 600\n",
    "gdpPercap = 120\n",
    "gdpTotal = 72000\n",
    "\n",
    "# Addition\n",
    "print(year + decade)\n",
    "\n",
    "# Subtraction\n",
    "print(decade - 5)\n",
    "\n",
    "# Multiplication\n",
    "print(pop * gdpPercap)\n",
    "\n",
    "# Division\n",
    "print(gdpTotal / pop)"
   ]
  },
  {
   "cell_type": "markdown",
   "metadata": {},
   "source": [
    "You might have noticed the pound signs `#` in the code cell above. These are **comments**, meaning that line of your code won't run."
   ]
  },
  {
   "cell_type": "markdown",
   "metadata": {
    "tags": []
   },
   "source": [
    "## Naming Variables\n",
    "\n",
    "Variable names **must** follow a few rules:\n",
    "\n",
    "* They cannot start with a digit.\n",
    "* They cannot contain spaces, quotation marks, or other punctuation.\n",
    "* They *may* contain an underscore.\n",
    "* They are case-sensitive (`life_exp` is not the same as `Life_exp`).\n",
    "\n",
    "Ignoring these rules will result in an error in Python. "
   ]
  },
  {
   "cell_type": "markdown",
   "metadata": {},
   "source": [
    "## 🥊 Challenge 3: Debugging Variable Names\n",
    "\n",
    "The following block of code includes variable names that cause an error. Consider the following questions:\n",
    "1. Which rule is being broken? Can you find this information in the error message?\n",
    "2. How would you change the code?"
   ]
  },
  {
   "cell_type": "code",
   "execution_count": null,
   "metadata": {
    "ExecuteTime": {
     "end_time": "2024-01-16T21:14:13.255877Z",
     "start_time": "2024-01-16T21:14:13.253294Z"
    }
   },
   "outputs": [],
   "source": [
    "country.1 = 'Zimbabwe'\n",
    "Continent = 'Africa'\n",
    "\n",
    "print(country.1, 'is a country in', Continent)"
   ]
  },
  {
   "cell_type": "markdown",
   "metadata": {
    "tags": []
   },
   "source": [
    "## Debugging\n",
    "\n",
    "You've seen two types of errors by now: `SyntaxError` (you're writing something wrong) and `NameError` (the variable, function, or module you're calling doesn't exist). There are many other errors. **Don't be daunted by them!**\n",
    "\n",
    "When you want to try and debug an error, think of the following:\n",
    "\n",
    "1. **Read the errors.** Especially the end of the error message. It gives you a summary about what went wrong, and in which line the error is found. \n",
    "2. **Check your syntax.** You might just be spelling something wrong.\n",
    "3. **Look for help.** You might just be using a function in a wrong way. Get into the habit of reading documentation and finding help online."
   ]
  },
  {
   "cell_type": "markdown",
   "metadata": {
    "tags": []
   },
   "source": [
    "## 🥊 Challenge 4: What The...\n",
    "\n",
    "What does the following error tell you?"
   ]
  },
  {
   "cell_type": "code",
   "execution_count": null,
   "metadata": {
    "ExecuteTime": {
     "end_time": "2024-01-16T21:15:11.614393Z",
     "start_time": "2024-01-16T21:15:11.611345Z"
    }
   },
   "outputs": [],
   "source": [
    "print 'something went wrong'"
   ]
  },
  {
   "cell_type": "markdown",
   "metadata": {},
   "source": [
    "When you're programming, most of your time will be spent debugging, looking stuff up, or testing. Relatively little time is actually spent typing out the code."
   ]
  },
  {
   "cell_type": "markdown",
   "metadata": {
    "tags": []
   },
   "source": [
    "## The Kernel\n",
    "\n",
    "The **kernel** is the computational engine that executes the code contained in a Jupyter Notebook. Each time you run a code block, the kernel processes that block, executes the code, and keeps a record of what was run.\n",
    " \n",
    "⚠️ **Warning**: Jupyter remembers all lines of code it executed, **even if it's not currently displayed in the Notebook**. Deleting a line of code or changing it to Markdown does not delete it from the Notebook's memory if it has already been run! This can cause a lot of confusion."
   ]
  },
  {
   "cell_type": "markdown",
   "metadata": {},
   "source": [
    "### Restarting the Kernel\n",
    "\n",
    "To clear your session in a Jupyter Notebook, use `Kernel -> Restart` in the menu. The kernel is basically the program actually running the code, so if you reset the kernel, it's as if you just opened up the Notebook for the first time. **All of the variables you set are lost.**\n",
    "\n",
    "🔔 **Question:** Run the cell below. What is the output?"
   ]
  },
  {
   "cell_type": "code",
   "execution_count": null,
   "metadata": {
    "ExecuteTime": {
     "end_time": "2024-01-16T21:16:39.752451Z",
     "start_time": "2024-01-16T21:16:39.744427Z"
    }
   },
   "outputs": [],
   "source": [
    "mystring = 'I am just a string.'\n",
    "\n",
    "mystring"
   ]
  },
  {
   "cell_type": "markdown",
   "metadata": {},
   "source": [
    " Now use `Kernel -> Restart` in the menu! Then run the code below. What happens?"
   ]
  },
  {
   "cell_type": "code",
   "execution_count": null,
   "metadata": {
    "ExecuteTime": {
     "end_time": "2024-01-16T21:16:42.533122Z",
     "start_time": "2024-01-16T21:16:42.530525Z"
    }
   },
   "outputs": [],
   "source": [
    "mystring"
   ]
  },
  {
   "cell_type": "markdown",
   "metadata": {},
   "source": [
    "Note that the error message tells you where the error happened (with an arrow, no less!). It is telling us that `mystring` is not defined, since we just reset the kernel.\n",
    "\n",
    "If you encounter problems like these, you should restart your kernel and rerun all cells in order."
   ]
  },
  {
   "cell_type": "markdown",
   "metadata": {},
   "source": [
    "💡 **Tip:** To see which variables we have assigned, you can use the magic command `%whos`. Magic commands are Jupyter-specific: [read about all of them here](https://ipython.readthedocs.io/en/stable/interactive/magics.html). There are a lot of really useful ones!"
   ]
  },
  {
   "cell_type": "code",
   "execution_count": null,
   "metadata": {
    "ExecuteTime": {
     "end_time": "2024-01-16T21:17:18.220478Z",
     "start_time": "2024-01-16T21:17:18.217435Z"
    }
   },
   "outputs": [],
   "source": [
    "# # This is a magic command\n",
    "%whos"
   ]
  },
  {
   "cell_type": "markdown",
   "metadata": {},
   "source": [
    "## 🥊 Challenge 5: Swapping Values\n",
    "\n",
    "Let's say we have two variables and we want to swap the values for each of them, so that `start` is assigned to `1952` and `end` is assigned to `1997`. \n",
    "\n",
    "🔔 **Question**: Does the following method accomplish the goal?"
   ]
  },
  {
   "cell_type": "code",
   "execution_count": null,
   "metadata": {
    "ExecuteTime": {
     "end_time": "2024-01-23T21:54:34.185543Z",
     "start_time": "2024-01-23T21:54:34.182390Z"
    }
   },
   "outputs": [],
   "source": [
    "start = 1997\n",
    "end = 1952\n",
    "\n",
    "start = end\n",
    "end = start\n",
    "\n",
    "print(start, end)"
   ]
  },
  {
   "cell_type": "markdown",
   "metadata": {},
   "source": [
    "Using a third temporary variable (you could call it `temp`), swap the first and last variables, so that `start = 1952` and `end = 1997`."
   ]
  },
  {
   "cell_type": "code",
   "execution_count": null,
   "metadata": {
    "ExecuteTime": {
     "end_time": "2024-01-16T21:24:57.195948Z",
     "start_time": "2024-01-16T21:24:57.192525Z"
    }
   },
   "outputs": [],
   "source": [
    "start = 1997\n",
    "end = 1952\n",
    "\n",
    "# YOUR CODE HERE\n",
    "\n"
   ]
  },
  {
   "cell_type": "markdown",
   "metadata": {
    "tags": []
   },
   "source": [
    "<a id='demo'></a>\n",
    "\n",
    "# 🎬 Demo: Working With Data Frames\n",
    "\n",
    "To cap off this session, here's a demo to see what reproducible data science with Python and Jupyter looks like.\n",
    "\n",
    "We'll be using a Pandas dataframe to store and manipulate the data. Don't worry if you don't understand this yet – you'll learn more about `pandas` in Notebook 3!\n",
    "\n",
    "First, let's have a look at the data:"
   ]
  },
  {
   "cell_type": "code",
   "execution_count": null,
   "metadata": {
    "ExecuteTime": {
     "end_time": "2024-01-16T21:31:14.660263Z",
     "start_time": "2024-01-16T21:31:14.647928Z"
    }
   },
   "outputs": [],
   "source": [
    "import pandas as pd\n",
    "\n",
    "# Reading in a comma-seperated values file\n",
    "df = pd.read_csv('../data/gapminder.csv')\n",
    "df.head()"
   ]
  },
  {
   "cell_type": "markdown",
   "metadata": {},
   "source": [
    "Next, we will select only the rows in our data where the continent is Europe, and assign those to a new variable."
   ]
  },
  {
   "cell_type": "code",
   "execution_count": null,
   "metadata": {
    "ExecuteTime": {
     "end_time": "2024-01-16T21:31:36.880406Z",
     "start_time": "2024-01-16T21:31:36.864791Z"
    }
   },
   "outputs": [],
   "source": [
    "# Subsetting a data frame\n",
    "df_Europe = df[df['continent'] == 'Europe']\n",
    "df_Europe"
   ]
  },
  {
   "cell_type": "markdown",
   "metadata": {},
   "source": [
    "Finally, we create a scatterplot to see whether life expectancy and gdp per capita seem related for these European countries."
   ]
  },
  {
   "cell_type": "code",
   "execution_count": null,
   "metadata": {
    "ExecuteTime": {
     "end_time": "2024-01-16T21:33:13.402527Z",
     "start_time": "2024-01-16T21:33:12.483293Z"
    }
   },
   "outputs": [],
   "source": [
    "# Plotting\n",
    "df_Europe.plot(kind='scatter', x='lifeExp', y='gdpPercap');"
   ]
  },
  {
   "cell_type": "markdown",
   "metadata": {
    "jp-MarkdownHeadingCollapsed": true,
    "tags": []
   },
   "source": [
    "<div class=\"alert alert-success\">\n",
    "\n",
    "## ❗ Key Points\n",
    "\n",
    "* Jupyter has markdown and code cells.\n",
    "* `print()` is a function. Functions can be recognized by their trailing parentheses. \n",
    "* Use `variable = value` to assign a value to a variable in order to store it in memory.\n",
    "* Use `print(variable)` to display the value of `variable`.\n",
    "* In the menu bar, go to `Kernel -> Restart Kernel` to restart Python. All your assigned variables will be lost.\n",
    "     \n",
    "</div>"
   ]
  }
 ],
 "metadata": {
  "kernelspec": {
   "display_name": "gt0",
   "language": "python",
   "name": "gt0"
  },
  "language_info": {
   "codemirror_mode": {
    "name": "ipython",
    "version": 3
   },
   "file_extension": ".py",
   "mimetype": "text/x-python",
   "name": "python",
   "nbconvert_exporter": "python",
   "pygments_lexer": "ipython3",
   "version": "3.12.4"
  },
  "toc": {
   "base_numbering": 1,
   "nav_menu": {},
   "number_sections": true,
   "sideBar": true,
   "skip_h1_title": false,
   "title_cell": "Table of Contents",
   "title_sidebar": "Contents",
   "toc_cell": true,
   "toc_position": {},
   "toc_section_display": true,
   "toc_window_display": true
  }
 },
 "nbformat": 4,
 "nbformat_minor": 4
}
